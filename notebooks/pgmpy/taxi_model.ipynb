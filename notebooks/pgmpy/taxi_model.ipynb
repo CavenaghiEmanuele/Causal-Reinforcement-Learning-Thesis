{
 "cells": [
  {
   "cell_type": "code",
   "execution_count": 1,
   "metadata": {},
   "outputs": [
    {
     "name": "stderr",
     "output_type": "stream",
     "text": [
      "/home/emanuele/.local/lib/python3.8/site-packages/torch/cuda/__init__.py:52: UserWarning: CUDA initialization: Found no NVIDIA driver on your system. Please check that you have an NVIDIA GPU and installed a driver from http://www.nvidia.com/Download/index.aspx (Triggered internally at  /pytorch/c10/cuda/CUDAFunctions.cpp:100.)\n",
      "  return torch._C._cuda_getDeviceCount() > 0\n"
     ]
    }
   ],
   "source": [
    "from pgmpy.models import BayesianModel\n",
    "from pgmpy.factors.discrete import TabularCPD\n",
    "from pgmpy.inference import VariableElimination\n",
    "from pgmpy.inference.CausalInference import CausalInference\n",
    "\n",
    "import networkx as nx\n",
    "import pylab as plt"
   ]
  },
  {
   "cell_type": "code",
   "execution_count": 2,
   "metadata": {
    "jupyter": {
     "source_hidden": true
    }
   },
   "outputs": [
    {
     "data": {
      "text/plain": [
       "True"
      ]
     },
     "execution_count": 2,
     "metadata": {},
     "output_type": "execute_result"
    }
   ],
   "source": [
    "#################################\n",
    "# Defining the model structure\n",
    "#################################\n",
    "# PP = start Passenger Position\n",
    "# DP = Destination Position of the passenger\n",
    "# CP = Cab Position\n",
    "# onPP = the cab is on the Passenger Position\n",
    "# onDP = the cab is on the Destination Position\n",
    "\n",
    "# P = Pickup the passenger\n",
    "# D = Dropoff the passenger\n",
    "\n",
    "# inC = passenger is in the Cab\n",
    "# G = Goal\n",
    "\n",
    "model = BayesianModel(\n",
    "    [\n",
    "        ('PP', 'onPP'),\n",
    "        ('CP', 'onPP'),\n",
    "        ('CP', 'onDP'),\n",
    "        ('DP', 'onDP'),\n",
    "        ('P', 'inC'),\n",
    "        ('onPP', 'inC'),\n",
    "        ('D', 'G'),\n",
    "        ('inC', 'G'),\n",
    "        ('onDP', 'G')\n",
    "    ]\n",
    ")\n",
    "\n",
    "\n",
    "# Defining individual CPDs.\n",
    "cpd_PP = TabularCPD(\n",
    "    variable='PP', \n",
    "    variable_card=25, \n",
    "    values=[\n",
    "        [0.04], [0.04], [0.04], [0.04], [0.04],\n",
    "        [0.04], [0.04], [0.04], [0.04], [0.04],\n",
    "        [0.04], [0.04], [0.04], [0.04], [0.04],\n",
    "        [0.04], [0.04], [0.04], [0.04], [0.04],\n",
    "        [0.04], [0.04], [0.04], [0.04], [0.04],        \n",
    "    ])\n",
    "cpd_DP = TabularCPD(\n",
    "    variable='DP', \n",
    "    variable_card=25, \n",
    "    values=[\n",
    "        [0.04], [0.04], [0.04], [0.04], [0.04],\n",
    "        [0.04], [0.04], [0.04], [0.04], [0.04],\n",
    "        [0.04], [0.04], [0.04], [0.04], [0.04],\n",
    "        [0.04], [0.04], [0.04], [0.04], [0.04],\n",
    "        [0.04], [0.04], [0.04], [0.04], [0.04],        \n",
    "    ])\n",
    "cpd_CP = TabularCPD(\n",
    "    variable='CP', \n",
    "    variable_card=25, \n",
    "    values=[\n",
    "        [0.04], [0.04], [0.04], [0.04], [0.04],\n",
    "        [0.04], [0.04], [0.04], [0.04], [0.04],\n",
    "        [0.04], [0.04], [0.04], [0.04], [0.04],\n",
    "        [0.04], [0.04], [0.04], [0.04], [0.04],\n",
    "        [0.04], [0.04], [0.04], [0.04], [0.04],        \n",
    "    ])\n",
    "cpd_onPP = TabularCPD(\n",
    "    variable='onPP', \n",
    "    variable_card=2, \n",
    "    values=[\n",
    "        [\n",
    "            1, 0, 0, 0, 0, 0, 0, 0, 0, 0, 0, 0, 0, 0, 0, 0, 0, 0, 0, 0, 0, 0, 0, 0, 0, \n",
    "            0, 1, 0, 0, 0, 0, 0, 0, 0, 0, 0, 0, 0, 0, 0, 0, 0, 0, 0, 0, 0, 0, 0, 0, 0,\n",
    "            0, 0, 1, 0, 0, 0, 0, 0, 0, 0, 0, 0, 0, 0, 0, 0, 0, 0, 0, 0, 0, 0, 0, 0, 0,\n",
    "            0, 0, 0, 1, 0, 0, 0, 0, 0, 0, 0, 0, 0, 0, 0, 0, 0, 0, 0, 0, 0, 0, 0, 0, 0,\n",
    "            0, 0, 0, 0, 1, 0, 0, 0, 0, 0, 0, 0, 0, 0, 0, 0, 0, 0, 0, 0, 0, 0, 0, 0, 0,\n",
    "            0, 0, 0, 0, 0, 1, 0, 0, 0, 0, 0, 0, 0, 0, 0, 0, 0, 0, 0, 0, 0, 0, 0, 0, 0,\n",
    "            0, 0, 0, 0, 0, 0, 1, 0, 0, 0, 0, 0, 0, 0, 0, 0, 0, 0, 0, 0, 0, 0, 0, 0, 0,\n",
    "            0, 0, 0, 0, 0, 0, 0, 1, 0, 0, 0, 0, 0, 0, 0, 0, 0, 0, 0, 0, 0, 0, 0, 0, 0,\n",
    "            0, 0, 0, 0, 0, 0, 0, 0, 1, 0, 0, 0, 0, 0, 0, 0, 0, 0, 0, 0, 0, 0, 0, 0, 0,\n",
    "            0, 0, 0, 0, 0, 0, 0, 0, 0, 1, 0, 0, 0, 0, 0, 0, 0, 0, 0, 0, 0, 0, 0, 0, 0,\n",
    "            0, 0, 0, 0, 0, 0, 0, 0, 0, 0, 1, 0, 0, 0, 0, 0, 0, 0, 0, 0, 0, 0, 0, 0, 0,\n",
    "            0, 0, 0, 0, 0, 0, 0, 0, 0, 0, 0, 1, 0, 0, 0, 0, 0, 0, 0, 0, 0, 0, 0, 0, 0,\n",
    "            0, 0, 0, 0, 0, 0, 0, 0, 0, 0, 0, 0, 1, 0, 0, 0, 0, 0, 0, 0, 0, 0, 0, 0, 0,\n",
    "            0, 0, 0, 0, 0, 0, 0, 0, 0, 0, 0, 0, 0, 1, 0, 0, 0, 0, 0, 0, 0, 0, 0, 0, 0,\n",
    "            0, 0, 0, 0, 0, 0, 0, 0, 0, 0, 0, 0, 0, 0, 1, 0, 0, 0, 0, 0, 0, 0, 0, 0, 0,\n",
    "            0, 0, 0, 0, 0, 0, 0, 0, 0, 0, 0, 0, 0, 0, 0, 1, 0, 0, 0, 0, 0, 0, 0, 0, 0,\n",
    "            0, 0, 0, 0, 0, 0, 0, 0, 0, 0, 0, 0, 0, 0, 0, 0, 1, 0, 0, 0, 0, 0, 0, 0, 0,\n",
    "            0, 0, 0, 0, 0, 0, 0, 0, 0, 0, 0, 0, 0, 0, 0, 0, 0, 1, 0, 0, 0, 0, 0, 0, 0,\n",
    "            0, 0, 0, 0, 0, 0, 0, 0, 0, 0, 0, 0, 0, 0, 0, 0, 0, 0, 1, 0, 0, 0, 0, 0, 0,\n",
    "            0, 0, 0, 0, 0, 0, 0, 0, 0, 0, 0, 0, 0, 0, 0, 0, 0, 0, 0, 1, 0, 0, 0, 0, 0,\n",
    "            0, 0, 0, 0, 0, 0, 0, 0, 0, 0, 0, 0, 0, 0, 0, 0, 0, 0, 0, 0, 1, 0, 0, 0, 0,\n",
    "            0, 0, 0, 0, 0, 0, 0, 0, 0, 0, 0, 0, 0, 0, 0, 0, 0, 0, 0, 0, 0, 1, 0, 0, 0,\n",
    "            0, 0, 0, 0, 0, 0, 0, 0, 0, 0, 0, 0, 0, 0, 0, 0, 0, 0, 0, 0, 0, 0, 1, 0, 0,\n",
    "            0, 0, 0, 0, 0, 0, 0, 0, 0, 0, 0, 0, 0, 0, 0, 0, 0, 0, 0, 0, 0, 0, 0, 1, 0,\n",
    "            0, 0, 0, 0, 0, 0, 0, 0, 0, 0, 0, 0, 0, 0, 0, 0, 0, 0, 0, 0, 0, 0, 0, 0, 1,\n",
    "        ],\n",
    "        [\n",
    "            0, 1, 1, 1, 1, 1, 1, 1, 1, 1, 1, 1, 1, 1, 1, 1, 1, 1, 1, 1, 1, 1, 1, 1, 1,\n",
    "            1, 0, 1, 1, 1, 1, 1, 1, 1, 1, 1, 1, 1, 1, 1, 1, 1, 1, 1, 1, 1, 1, 1, 1, 1,\n",
    "            1, 1, 0, 1, 1, 1, 1, 1, 1, 1, 1, 1, 1, 1, 1, 1, 1, 1, 1, 1, 1, 1, 1, 1, 1,\n",
    "            1, 1, 1, 0, 1, 1, 1, 1, 1, 1, 1, 1, 1, 1, 1, 1, 1, 1, 1, 1, 1, 1, 1, 1, 1,\n",
    "            1, 1, 1, 1, 0, 1, 1, 1, 1, 1, 1, 1, 1, 1, 1, 1, 1, 1, 1, 1, 1, 1, 1, 1, 1,\n",
    "            1, 1, 1, 1, 1, 0, 1, 1, 1, 1, 1, 1, 1, 1, 1, 1, 1, 1, 1, 1, 1, 1, 1, 1, 1,\n",
    "            1, 1, 1, 1, 1, 1, 0, 1, 1, 1, 1, 1, 1, 1, 1, 1, 1, 1, 1, 1, 1, 1, 1, 1, 1,\n",
    "            1, 1, 1, 1, 1, 1, 1, 0, 1, 1, 1, 1, 1, 1, 1, 1, 1, 1, 1, 1, 1, 1, 1, 1, 1,\n",
    "            1, 1, 1, 1, 1, 1, 1, 1, 0, 1, 1, 1, 1, 1, 1, 1, 1, 1, 1, 1, 1, 1, 1, 1, 1,\n",
    "            1, 1, 1, 1, 1, 1, 1, 1, 1, 0, 1, 1, 1, 1, 1, 1, 1, 1, 1, 1, 1, 1, 1, 1, 1,\n",
    "            1, 1, 1, 1, 1, 1, 1, 1, 1, 1, 0, 1, 1, 1, 1, 1, 1, 1, 1, 1, 1, 1, 1, 1, 1,\n",
    "            1, 1, 1, 1, 1, 1, 1, 1, 1, 1, 1, 0, 1, 1, 1, 1, 1, 1, 1, 1, 1, 1, 1, 1, 1,\n",
    "            1, 1, 1, 1, 1, 1, 1, 1, 1, 1, 1, 1, 0, 1, 1, 1, 1, 1, 1, 1, 1, 1, 1, 1, 1,\n",
    "            1, 1, 1, 1, 1, 1, 1, 1, 1, 1, 1, 1, 1, 0, 1, 1, 1, 1, 1, 1, 1, 1, 1, 1, 1,\n",
    "            1, 1, 1, 1, 1, 1, 1, 1, 1, 1, 1, 1, 1, 1, 0, 1, 1, 1, 1, 1, 1, 1, 1, 1, 1,\n",
    "            1, 1, 1, 1, 1, 1, 1, 1, 1, 1, 1, 1, 1, 1, 1, 0, 1, 1, 1, 1, 1, 1, 1, 1, 1,\n",
    "            1, 1, 1, 1, 1, 1, 1, 1, 1, 1, 1, 1, 1, 1, 1, 1, 0, 1, 1, 1, 1, 1, 1, 1, 1,\n",
    "            1, 1, 1, 1, 1, 1, 1, 1, 1, 1, 1, 1, 1, 1, 1, 1, 1, 0, 1, 1, 1, 1, 1, 1, 1,\n",
    "            1, 1, 1, 1, 1, 1, 1, 1, 1, 1, 1, 1, 1, 1, 1, 1, 1, 1, 0, 1, 1, 1, 1, 1, 1,\n",
    "            1, 1, 1, 1, 1, 1, 1, 1, 1, 1, 1, 1, 1, 1, 1, 1, 1, 1, 1, 0, 1, 1, 1, 1, 1,\n",
    "            1, 1, 1, 1, 1, 1, 1, 1, 1, 1, 1, 1, 1, 1, 1, 1, 1, 1, 1, 1, 0, 1, 1, 1, 1,\n",
    "            1, 1, 1, 1, 1, 1, 1, 1, 1, 1, 1, 1, 1, 1, 1, 1, 1, 1, 1, 1, 1, 0, 1, 1, 1,\n",
    "            1, 1, 1, 1, 1, 1, 1, 1, 1, 1, 1, 1, 1, 1, 1, 1, 1, 1, 1, 1, 1, 1, 0, 1, 1,\n",
    "            1, 1, 1, 1, 1, 1, 1, 1, 1, 1, 1, 1, 1, 1, 1, 1, 1, 1, 1, 1, 1, 1, 1, 0, 1,\n",
    "            1, 1, 1, 1, 1, 1, 1, 1, 1, 1, 1, 1, 1, 1, 1, 1, 1, 1, 1, 1, 1, 1, 1, 1, 0,\n",
    "        ]\n",
    "    ],\n",
    "    evidence=['PP', 'CP'],\n",
    "    evidence_card=[25, 25],\n",
    "    #state_names={'onPP': ['True', 'False']}\n",
    ")\n",
    "cpd_onDP = TabularCPD(\n",
    "    variable='onDP', \n",
    "    variable_card=2, \n",
    "    values=[\n",
    "        [\n",
    "            1, 0, 0, 0, 0, 0, 0, 0, 0, 0, 0, 0, 0, 0, 0, 0, 0, 0, 0, 0, 0, 0, 0, 0, 0, \n",
    "            0, 1, 0, 0, 0, 0, 0, 0, 0, 0, 0, 0, 0, 0, 0, 0, 0, 0, 0, 0, 0, 0, 0, 0, 0,\n",
    "            0, 0, 1, 0, 0, 0, 0, 0, 0, 0, 0, 0, 0, 0, 0, 0, 0, 0, 0, 0, 0, 0, 0, 0, 0,\n",
    "            0, 0, 0, 1, 0, 0, 0, 0, 0, 0, 0, 0, 0, 0, 0, 0, 0, 0, 0, 0, 0, 0, 0, 0, 0,\n",
    "            0, 0, 0, 0, 1, 0, 0, 0, 0, 0, 0, 0, 0, 0, 0, 0, 0, 0, 0, 0, 0, 0, 0, 0, 0,\n",
    "            0, 0, 0, 0, 0, 1, 0, 0, 0, 0, 0, 0, 0, 0, 0, 0, 0, 0, 0, 0, 0, 0, 0, 0, 0,\n",
    "            0, 0, 0, 0, 0, 0, 1, 0, 0, 0, 0, 0, 0, 0, 0, 0, 0, 0, 0, 0, 0, 0, 0, 0, 0,\n",
    "            0, 0, 0, 0, 0, 0, 0, 1, 0, 0, 0, 0, 0, 0, 0, 0, 0, 0, 0, 0, 0, 0, 0, 0, 0,\n",
    "            0, 0, 0, 0, 0, 0, 0, 0, 1, 0, 0, 0, 0, 0, 0, 0, 0, 0, 0, 0, 0, 0, 0, 0, 0,\n",
    "            0, 0, 0, 0, 0, 0, 0, 0, 0, 1, 0, 0, 0, 0, 0, 0, 0, 0, 0, 0, 0, 0, 0, 0, 0,\n",
    "            0, 0, 0, 0, 0, 0, 0, 0, 0, 0, 1, 0, 0, 0, 0, 0, 0, 0, 0, 0, 0, 0, 0, 0, 0,\n",
    "            0, 0, 0, 0, 0, 0, 0, 0, 0, 0, 0, 1, 0, 0, 0, 0, 0, 0, 0, 0, 0, 0, 0, 0, 0,\n",
    "            0, 0, 0, 0, 0, 0, 0, 0, 0, 0, 0, 0, 1, 0, 0, 0, 0, 0, 0, 0, 0, 0, 0, 0, 0,\n",
    "            0, 0, 0, 0, 0, 0, 0, 0, 0, 0, 0, 0, 0, 1, 0, 0, 0, 0, 0, 0, 0, 0, 0, 0, 0,\n",
    "            0, 0, 0, 0, 0, 0, 0, 0, 0, 0, 0, 0, 0, 0, 1, 0, 0, 0, 0, 0, 0, 0, 0, 0, 0,\n",
    "            0, 0, 0, 0, 0, 0, 0, 0, 0, 0, 0, 0, 0, 0, 0, 1, 0, 0, 0, 0, 0, 0, 0, 0, 0,\n",
    "            0, 0, 0, 0, 0, 0, 0, 0, 0, 0, 0, 0, 0, 0, 0, 0, 1, 0, 0, 0, 0, 0, 0, 0, 0,\n",
    "            0, 0, 0, 0, 0, 0, 0, 0, 0, 0, 0, 0, 0, 0, 0, 0, 0, 1, 0, 0, 0, 0, 0, 0, 0,\n",
    "            0, 0, 0, 0, 0, 0, 0, 0, 0, 0, 0, 0, 0, 0, 0, 0, 0, 0, 1, 0, 0, 0, 0, 0, 0,\n",
    "            0, 0, 0, 0, 0, 0, 0, 0, 0, 0, 0, 0, 0, 0, 0, 0, 0, 0, 0, 1, 0, 0, 0, 0, 0,\n",
    "            0, 0, 0, 0, 0, 0, 0, 0, 0, 0, 0, 0, 0, 0, 0, 0, 0, 0, 0, 0, 1, 0, 0, 0, 0,\n",
    "            0, 0, 0, 0, 0, 0, 0, 0, 0, 0, 0, 0, 0, 0, 0, 0, 0, 0, 0, 0, 0, 1, 0, 0, 0,\n",
    "            0, 0, 0, 0, 0, 0, 0, 0, 0, 0, 0, 0, 0, 0, 0, 0, 0, 0, 0, 0, 0, 0, 1, 0, 0,\n",
    "            0, 0, 0, 0, 0, 0, 0, 0, 0, 0, 0, 0, 0, 0, 0, 0, 0, 0, 0, 0, 0, 0, 0, 1, 0,\n",
    "            0, 0, 0, 0, 0, 0, 0, 0, 0, 0, 0, 0, 0, 0, 0, 0, 0, 0, 0, 0, 0, 0, 0, 0, 1,\n",
    "        ],\n",
    "        [\n",
    "            0, 1, 1, 1, 1, 1, 1, 1, 1, 1, 1, 1, 1, 1, 1, 1, 1, 1, 1, 1, 1, 1, 1, 1, 1,\n",
    "            1, 0, 1, 1, 1, 1, 1, 1, 1, 1, 1, 1, 1, 1, 1, 1, 1, 1, 1, 1, 1, 1, 1, 1, 1,\n",
    "            1, 1, 0, 1, 1, 1, 1, 1, 1, 1, 1, 1, 1, 1, 1, 1, 1, 1, 1, 1, 1, 1, 1, 1, 1,\n",
    "            1, 1, 1, 0, 1, 1, 1, 1, 1, 1, 1, 1, 1, 1, 1, 1, 1, 1, 1, 1, 1, 1, 1, 1, 1,\n",
    "            1, 1, 1, 1, 0, 1, 1, 1, 1, 1, 1, 1, 1, 1, 1, 1, 1, 1, 1, 1, 1, 1, 1, 1, 1,\n",
    "            1, 1, 1, 1, 1, 0, 1, 1, 1, 1, 1, 1, 1, 1, 1, 1, 1, 1, 1, 1, 1, 1, 1, 1, 1,\n",
    "            1, 1, 1, 1, 1, 1, 0, 1, 1, 1, 1, 1, 1, 1, 1, 1, 1, 1, 1, 1, 1, 1, 1, 1, 1,\n",
    "            1, 1, 1, 1, 1, 1, 1, 0, 1, 1, 1, 1, 1, 1, 1, 1, 1, 1, 1, 1, 1, 1, 1, 1, 1,\n",
    "            1, 1, 1, 1, 1, 1, 1, 1, 0, 1, 1, 1, 1, 1, 1, 1, 1, 1, 1, 1, 1, 1, 1, 1, 1,\n",
    "            1, 1, 1, 1, 1, 1, 1, 1, 1, 0, 1, 1, 1, 1, 1, 1, 1, 1, 1, 1, 1, 1, 1, 1, 1,\n",
    "            1, 1, 1, 1, 1, 1, 1, 1, 1, 1, 0, 1, 1, 1, 1, 1, 1, 1, 1, 1, 1, 1, 1, 1, 1,\n",
    "            1, 1, 1, 1, 1, 1, 1, 1, 1, 1, 1, 0, 1, 1, 1, 1, 1, 1, 1, 1, 1, 1, 1, 1, 1,\n",
    "            1, 1, 1, 1, 1, 1, 1, 1, 1, 1, 1, 1, 0, 1, 1, 1, 1, 1, 1, 1, 1, 1, 1, 1, 1,\n",
    "            1, 1, 1, 1, 1, 1, 1, 1, 1, 1, 1, 1, 1, 0, 1, 1, 1, 1, 1, 1, 1, 1, 1, 1, 1,\n",
    "            1, 1, 1, 1, 1, 1, 1, 1, 1, 1, 1, 1, 1, 1, 0, 1, 1, 1, 1, 1, 1, 1, 1, 1, 1,\n",
    "            1, 1, 1, 1, 1, 1, 1, 1, 1, 1, 1, 1, 1, 1, 1, 0, 1, 1, 1, 1, 1, 1, 1, 1, 1,\n",
    "            1, 1, 1, 1, 1, 1, 1, 1, 1, 1, 1, 1, 1, 1, 1, 1, 0, 1, 1, 1, 1, 1, 1, 1, 1,\n",
    "            1, 1, 1, 1, 1, 1, 1, 1, 1, 1, 1, 1, 1, 1, 1, 1, 1, 0, 1, 1, 1, 1, 1, 1, 1,\n",
    "            1, 1, 1, 1, 1, 1, 1, 1, 1, 1, 1, 1, 1, 1, 1, 1, 1, 1, 0, 1, 1, 1, 1, 1, 1,\n",
    "            1, 1, 1, 1, 1, 1, 1, 1, 1, 1, 1, 1, 1, 1, 1, 1, 1, 1, 1, 0, 1, 1, 1, 1, 1,\n",
    "            1, 1, 1, 1, 1, 1, 1, 1, 1, 1, 1, 1, 1, 1, 1, 1, 1, 1, 1, 1, 0, 1, 1, 1, 1,\n",
    "            1, 1, 1, 1, 1, 1, 1, 1, 1, 1, 1, 1, 1, 1, 1, 1, 1, 1, 1, 1, 1, 0, 1, 1, 1,\n",
    "            1, 1, 1, 1, 1, 1, 1, 1, 1, 1, 1, 1, 1, 1, 1, 1, 1, 1, 1, 1, 1, 1, 0, 1, 1,\n",
    "            1, 1, 1, 1, 1, 1, 1, 1, 1, 1, 1, 1, 1, 1, 1, 1, 1, 1, 1, 1, 1, 1, 1, 0, 1,\n",
    "            1, 1, 1, 1, 1, 1, 1, 1, 1, 1, 1, 1, 1, 1, 1, 1, 1, 1, 1, 1, 1, 1, 1, 1, 0,\n",
    "        ]\n",
    "    ],\n",
    "    evidence=['DP', 'CP'],\n",
    "    evidence_card=[25, 25],\n",
    "    #state_names={'onDP': ['True', 'False']}\n",
    ")\n",
    "cpd_P = TabularCPD(\n",
    "    variable='P', \n",
    "    variable_card=2, \n",
    "    values=[[0.5], [0.5]],\n",
    "    #state_names={'P': ['True', 'False']}\n",
    ")\n",
    "cpd_D = TabularCPD(\n",
    "    variable='D', \n",
    "    variable_card=2, \n",
    "    values=[[0.5], [0.5]],\n",
    "    #state_names={'D': ['True', 'False']}\n",
    ")\n",
    "cpd_inC = TabularCPD(\n",
    "    variable='inC',\n",
    "    variable_card=2,\n",
    "    values=[\n",
    "        [1, 0, 0, 0], \n",
    "        [0, 1, 1, 1]\n",
    "    ],\n",
    "    evidence=['P', 'onPP'],\n",
    "    evidence_card=[2, 2],\n",
    "    #state_names={'inC': ['True', 'False']}\n",
    ")\n",
    "cpd_G = TabularCPD(\n",
    "    variable='G',\n",
    "    variable_card=2,\n",
    "    values=[\n",
    "        [1, 0, 0, 0, 0, 0, 0, 0], \n",
    "        [0, 1, 1, 1, 1, 1, 1, 1]\n",
    "    ],\n",
    "    evidence=['D', 'inC', 'onDP'],\n",
    "    evidence_card=[2, 2, 2],\n",
    "    #state_names={'G': ['True', 'False']}\n",
    ")\n",
    "\n",
    "\n",
    "# Associating the CPDs with the network\n",
    "model.add_cpds(cpd_PP, cpd_DP, cpd_CP, cpd_onPP, cpd_onDP, cpd_P, cpd_D, cpd_inC, cpd_G)\n",
    "\n",
    "# check_model checks for the network structure and CPDs and verifies that the CPDs are correctly \n",
    "# defined and sum to 1.\n",
    "model.check_model()"
   ]
  },
  {
   "cell_type": "code",
   "execution_count": 3,
   "metadata": {},
   "outputs": [
    {
     "data": {
      "text/plain": [
       "[<TabularCPD representing P(PP:25) at 0x7f9de459c280>,\n",
       " <TabularCPD representing P(DP:25) at 0x7f9de459c310>,\n",
       " <TabularCPD representing P(CP:25) at 0x7f9eb8d38bb0>,\n",
       " <TabularCPD representing P(onPP:2 | PP:25, CP:25) at 0x7f9eb8d49ee0>,\n",
       " <TabularCPD representing P(onDP:2 | DP:25, CP:25) at 0x7f9eb8d38f10>,\n",
       " <TabularCPD representing P(P:2) at 0x7f9eb8d49910>,\n",
       " <TabularCPD representing P(D:2) at 0x7f9eb8d38a30>,\n",
       " <TabularCPD representing P(inC:2 | P:2, onPP:2) at 0x7f9eb8d38a90>,\n",
       " <TabularCPD representing P(G:2 | D:2, inC:2, onDP:2) at 0x7f9de459c400>]"
      ]
     },
     "execution_count": 3,
     "metadata": {},
     "output_type": "execute_result"
    }
   ],
   "source": [
    "model.get_cpds()"
   ]
  },
  {
   "cell_type": "code",
   "execution_count": 4,
   "metadata": {},
   "outputs": [
    {
     "data": {
      "text/plain": [
       "defaultdict(int,\n",
       "            {'PP': 25,\n",
       "             'DP': 25,\n",
       "             'CP': 25,\n",
       "             'onPP': 2,\n",
       "             'onDP': 2,\n",
       "             'P': 2,\n",
       "             'D': 2,\n",
       "             'inC': 2,\n",
       "             'G': 2})"
      ]
     },
     "execution_count": 4,
     "metadata": {},
     "output_type": "execute_result"
    }
   ],
   "source": [
    "model.get_cardinality()"
   ]
  },
  {
   "cell_type": "code",
   "execution_count": 5,
   "metadata": {},
   "outputs": [
    {
     "data": {
      "image/png": "[encoded data removed]",
      "text/plain": [
       "<Figure size 432x288 with 1 Axes>"
      ]
     },
     "metadata": {},
     "output_type": "display_data"
    }
   ],
   "source": [
    "nx.draw(model, with_labels=True)\n",
    "plt.show()"
   ]
  },
  {
   "cell_type": "code",
   "execution_count": 6,
   "metadata": {},
   "outputs": [
    {
     "name": "stderr",
     "output_type": "stream",
     "text": [
      "Finding Elimination Order: :   0%|          | 0/7 [00:00<?, ?it/s]\n",
      "  0%|          | 0/7 [00:00<?, ?it/s]\u001b[A\n",
      "Eliminating: inC:   0%|          | 0/7 [00:00<?, ?it/s]\u001b[A\n",
      "Finding Elimination Order: : 100%|██████████| 7/7 [00:00<00:00, 837.81it/s]\n",
      "\n",
      "Eliminating: onDP:   0%|          | 0/7 [00:00<?, ?it/s]\u001b[A\n",
      "Eliminating: CP:   0%|          | 0/7 [00:00<?, ?it/s]  \u001b[A\n",
      "Eliminating: P:   0%|          | 0/7 [00:00<?, ?it/s] \u001b[A\n",
      "Eliminating: PP:   0%|          | 0/7 [00:00<?, ?it/s]\u001b[A\n",
      "Eliminating: onPP: 100%|██████████| 7/7 [00:00<00:00, 168.47it/s]"
     ]
    },
    {
     "name": "stdout",
     "output_type": "stream",
     "text": [
      "+------+----------+\n",
      "| G    |   phi(G) |\n",
      "+======+==========+\n",
      "| G(0) |   0.0008 |\n",
      "+------+----------+\n",
      "| G(1) |   0.9992 |\n",
      "+------+----------+\n"
     ]
    },
    {
     "name": "stderr",
     "output_type": "stream",
     "text": [
      "\n"
     ]
    }
   ],
   "source": [
    "infer = VariableElimination(model)\n",
    "g_dist = infer.query(['G', ], evidence={'D':0})\n",
    "print(g_dist)"
   ]
  },
  {
   "cell_type": "code",
   "execution_count": 7,
   "metadata": {},
   "outputs": [
    {
     "name": "stdout",
     "output_type": "stream",
     "text": [
      "What's the possible backdoor adjustment sets? frozenset({frozenset({'onDP', 'inC'}), frozenset({'inC', 'CP'}), frozenset({'inC', 'onPP'})})\n",
      "Ehat's the possible front adjustment sets? frozenset()\n"
     ]
    }
   ],
   "source": [
    "inference = CausalInference(model)\n",
    "bd_adj_sets = inference.get_all_backdoor_adjustment_sets(\"G\", \"P\")\n",
    "print(f\"What's the possible backdoor adjustment sets? {bd_adj_sets}\")\n",
    "fd_adj_sets = inference.get_all_frontdoor_adjustment_sets(\"G\", \"P\")\n",
    "print(f\"Ehat's the possible front adjustment sets? {fd_adj_sets}\")"
   ]
  },
  {
   "cell_type": "code",
   "execution_count": 8,
   "metadata": {},
   "outputs": [
    {
     "data": {
      "text/plain": [
       "frozenset({'inC', 'onDP'})"
      ]
     },
     "execution_count": 8,
     "metadata": {},
     "output_type": "execute_result"
    }
   ],
   "source": [
    "backdoor_adj = inference.simple_decision(bd_adj_sets)\n",
    "backdoor_adj"
   ]
  },
  {
   "cell_type": "code",
   "execution_count": 34,
   "metadata": {},
   "outputs": [
    {
     "name": "stderr",
     "output_type": "stream",
     "text": [
      "Finding Elimination Order: :   0%|          | 0/5 [00:00<?, ?it/s]\n",
      "  0%|          | 0/5 [00:00<?, ?it/s]\u001b[A\n",
      "Eliminating: DP:   0%|          | 0/5 [00:00<?, ?it/s]\u001b[A\n",
      "Eliminating: P:   0%|          | 0/5 [00:00<?, ?it/s] \u001b[A\n",
      "Eliminating: PP:   0%|          | 0/5 [00:00<?, ?it/s]\u001b[A\n",
      "Eliminating: onPP:   0%|          | 0/5 [00:00<?, ?it/s]\u001b[A\n",
      "Eliminating: CP: 100%|██████████| 5/5 [00:00<00:00, 385.16it/s]\n",
      "\n",
      "  0%|          | 0/7 [00:00<?, ?it/s]\u001b[A\n",
      "Finding Elimination Order: : 100%|██████████| 5/5 [00:00<00:00, 156.80it/s]\n",
      "Eliminating: CP: 100%|██████████| 7/7 [00:00<00:00, 656.43it/s]/s]\u001b[A"
     ]
    },
    {
     "name": "stdout",
     "output_type": "stream",
     "text": [
      "+--------+---------+------+-------------------+\n",
      "| inC    | onDP    | G    |   phi(inC,onDP,G) |\n",
      "+========+=========+======+===================+\n",
      "| inC(0) | onDP(0) | G(0) |            0.0008 |\n",
      "+--------+---------+------+-------------------+\n",
      "| inC(0) | onDP(0) | G(1) |            0.0000 |\n",
      "+--------+---------+------+-------------------+\n",
      "| inC(0) | onDP(1) | G(0) |            0.0000 |\n",
      "+--------+---------+------+-------------------+\n",
      "| inC(0) | onDP(1) | G(1) |            0.0192 |\n",
      "+--------+---------+------+-------------------+\n",
      "| inC(1) | onDP(0) | G(0) |            0.0000 |\n",
      "+--------+---------+------+-------------------+\n",
      "| inC(1) | onDP(0) | G(1) |            0.0392 |\n",
      "+--------+---------+------+-------------------+\n",
      "| inC(1) | onDP(1) | G(0) |            0.0000 |\n",
      "+--------+---------+------+-------------------+\n",
      "| inC(1) | onDP(1) | G(1) |            0.9408 |\n",
      "+--------+---------+------+-------------------+\n",
      "+---------+--------+-----------------+\n",
      "| onDP    | inC    |   phi(onDP,inC) |\n",
      "+=========+========+=================+\n",
      "| onDP(0) | inC(0) |          0.0008 |\n",
      "+---------+--------+-----------------+\n",
      "| onDP(0) | inC(1) |          0.0392 |\n",
      "+---------+--------+-----------------+\n",
      "| onDP(1) | inC(0) |          0.0192 |\n",
      "+---------+--------+-----------------+\n",
      "| onDP(1) | inC(1) |          0.9408 |\n",
      "+---------+--------+-----------------+\n"
     ]
    },
    {
     "name": "stderr",
     "output_type": "stream",
     "text": [
      "\n"
     ]
    }
   ],
   "source": [
    "var = list(backdoor_adj)\n",
    "var.append('G')\n",
    "target = infer.query(var, evidence={'D':0})\n",
    "adjustment = infer.query(list(backdoor_adj))\n",
    "print(target)\n",
    "print(adjustment)"
   ]
  },
  {
   "cell_type": "code",
   "execution_count": 37,
   "metadata": {},
   "outputs": [
    {
     "name": "stdout",
     "output_type": "stream",
     "text": [
      "+--------+---------+------+-------------------+\n",
      "| inC    | onDP    | G    |   phi(inC,onDP,G) |\n",
      "+========+=========+======+===================+\n",
      "| inC(0) | onDP(0) | G(0) |            0.0000 |\n",
      "+--------+---------+------+-------------------+\n",
      "| inC(0) | onDP(0) | G(1) |            0.0000 |\n",
      "+--------+---------+------+-------------------+\n",
      "| inC(0) | onDP(1) | G(0) |            0.0000 |\n",
      "+--------+---------+------+-------------------+\n",
      "| inC(0) | onDP(1) | G(1) |            0.0004 |\n",
      "+--------+---------+------+-------------------+\n",
      "| inC(1) | onDP(0) | G(0) |            0.0000 |\n",
      "+--------+---------+------+-------------------+\n",
      "| inC(1) | onDP(0) | G(1) |            0.0015 |\n",
      "+--------+---------+------+-------------------+\n",
      "| inC(1) | onDP(1) | G(0) |            0.0000 |\n",
      "+--------+---------+------+-------------------+\n",
      "| inC(1) | onDP(1) | G(1) |            0.8851 |\n",
      "+--------+---------+------+-------------------+\n",
      "+--------+---------+------+-------------------+\n",
      "| inC    | onDP    | G    |   phi(inC,onDP,G) |\n",
      "+========+=========+======+===================+\n",
      "| inC(0) | onDP(0) | G(0) |            0.0000 |\n",
      "+--------+---------+------+-------------------+\n",
      "| inC(0) | onDP(0) | G(1) |            0.0000 |\n",
      "+--------+---------+------+-------------------+\n",
      "| inC(0) | onDP(1) | G(0) |            0.0000 |\n",
      "+--------+---------+------+-------------------+\n",
      "| inC(0) | onDP(1) | G(1) |            0.0004 |\n",
      "+--------+---------+------+-------------------+\n",
      "| inC(1) | onDP(0) | G(0) |            0.0000 |\n",
      "+--------+---------+------+-------------------+\n",
      "| inC(1) | onDP(0) | G(1) |            0.0017 |\n",
      "+--------+---------+------+-------------------+\n",
      "| inC(1) | onDP(1) | G(0) |            0.0000 |\n",
      "+--------+---------+------+-------------------+\n",
      "| inC(1) | onDP(1) | G(1) |            0.9979 |\n",
      "+--------+---------+------+-------------------+\n",
      "+------+----------+\n",
      "| G    |   phi(G) |\n",
      "+======+==========+\n",
      "| G(0) |   0.0000 |\n",
      "+------+----------+\n",
      "| G(1) |   1.0000 |\n",
      "+------+----------+\n"
     ]
    }
   ],
   "source": [
    "adjusted = target.product(adjustment, inplace=False)\n",
    "print(adjusted)\n",
    "adjusted.normalize()\n",
    "print(adjusted)\n",
    "adjusted.marginalize(['inC', 'onDP'])\n",
    "print(adjusted)"
   ]
  },
  {
   "cell_type": "code",
   "execution_count": null,
   "metadata": {},
   "outputs": [],
   "source": []
  }
 ],
 "metadata": {
  "kernelspec": {
   "display_name": "Python 3",
   "language": "python",
   "name": "python3"
  },
  "language_info": {
   "codemirror_mode": {
    "name": "ipython",
    "version": 3
   },
   "file_extension": ".py",
   "mimetype": "text/x-python",
   "name": "python",
   "nbconvert_exporter": "python",
   "pygments_lexer": "ipython3",
   "version": "3.8.5"
  }
 },
 "nbformat": 4,
 "nbformat_minor": 4
}
